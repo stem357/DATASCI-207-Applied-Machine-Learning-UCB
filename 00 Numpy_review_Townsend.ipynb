{
 "cells": [
  {
   "cell_type": "markdown",
   "id": "68d2f193",
   "metadata": {},
   "source": [
    "# Assignment 0"
   ]
  },
  {
   "cell_type": "markdown",
   "id": "231ec299",
   "metadata": {},
   "source": [
    "### <span style=\"color:chocolate\"> Submission requirements </span>\n",
    "\n",
    "Your work will not be graded if your notebook doesn't include output. In other words, <span style=\"color:red\"> make sure to rerun your notebook before submitting to Gradescope </span> (Note: if you are using Google Colab: go to Edit > Notebook Settings  and uncheck Omit code cell output when saving this notebook, otherwise the output is not printed).\n",
    "\n",
    "Additional points may be deducted if these requirements are not met:\n",
    "\n",
    "    \n",
    "* Comment your code;\n",
    "* Each graph should have a title, labels for each axis, and (if needed) a legend. Each graph should be understandable on its own;\n",
    "* Try and minimize the use of the global namespace (meaning, keep things inside functions).\n",
    "---"
   ]
  },
  {
   "cell_type": "markdown",
   "id": "aae36a3a",
   "metadata": {},
   "source": [
    "### Import libraries"
   ]
  },
  {
   "cell_type": "code",
   "execution_count": 2,
   "id": "1d2c9a02",
   "metadata": {},
   "outputs": [],
   "source": [
    "import numpy as np\n",
    "np.random.seed(seed=1)"
   ]
  },
  {
   "cell_type": "markdown",
   "id": "8fb0f91b",
   "metadata": {},
   "source": [
    "---\n",
    "### <span style=\"color:chocolate\">Exercise 1:</span> Homogenous data types (10 points)\n",
    "\n",
    "1. Create a numpy array (my_array1) containing only integer values. Print the shape of the array and the type of its elements;\n",
    "2. Create another numpy array (my_array2) containing a mix of integer and string values. Print the shape of the array and the type of its elements. What explains the datatype of the array?"
   ]
  },
  {
   "cell_type": "markdown",
   "id": "32db96ae",
   "metadata": {},
   "source": []
  },
  {
   "cell_type": "code",
   "execution_count": 21,
   "id": "49c4add6",
   "metadata": {},
   "outputs": [
    {
     "name": "stdout",
     "output_type": "stream",
     "text": [
      "Shape of my_array1: (4,)\n",
      "Data type of my_array1 elements: int64\n",
      "\n",
      "Shape of my_array2: (3,)\n",
      "Data type of my_array2 elements: <U21\n"
     ]
    }
   ],
   "source": [
    "# Integer array\n",
    "my_array1 = np.array([1, 2, 3, 4])\n",
    "print(\"Shape of my_array1:\", my_array1.shape)\n",
    "print(\"Data type of my_array1 elements:\", my_array1.dtype)\n",
    "\n",
    "# Mixed type array\n",
    "my_array2 = np.array([1, \"hello\", 3])\n",
    "print(\"\\nShape of my_array2:\", my_array2.shape)\n",
    "print(\"Data type of my_array2 elements:\", my_array2.dtype)\n",
    "# Explanation: Mixing int and string promotes the entire array to strings (dtype '<U11').\n"
   ]
  },
  {
   "cell_type": "markdown",
   "id": "8becfbd2",
   "metadata": {},
   "source": [
    "---\n",
    "#### <span style=\"color:chocolate\">Exercise 2:</span> The size attribute (10 points)\n",
    "\n",
    "Create a numpy array (my_array3) and print its shape, size, and data type. What does size represent?"
   ]
  },
  {
   "cell_type": "code",
   "execution_count": 22,
   "id": "8733dbc0",
   "metadata": {},
   "outputs": [
    {
     "name": "stdout",
     "output_type": "stream",
     "text": [
      "Shape: (2, 3)\n",
      "Size: 6\n",
      "Data type: int64\n"
     ]
    }
   ],
   "source": [
    "my_array3 = np.array([[1, 2, 3], [4, 5, 6]])\n",
    "print(\"Shape:\", my_array3.shape)\n",
    "print(\"Size:\", my_array3.size)  # Total number of elements\n",
    "print(\"Data type:\", my_array3.dtype)\n"
   ]
  },
  {
   "cell_type": "markdown",
   "id": "89731f88",
   "metadata": {},
   "source": [
    "---\n",
    "#### <span style=\"color:chocolate\">Exercise 3:</span> Tabular data layout (10 points)"
   ]
  },
  {
   "cell_type": "markdown",
   "id": "89c8c4d9",
   "metadata": {},
   "source": [
    "Create a tabular data layout using the numpy method <span style=\"color:chocolate\">np.random.random()</span>, where:\n",
    "* the first input is num_samples, and\n",
    "* the second input is num_features. \n",
    "\n",
    "Print the shape of the array."
   ]
  },
  {
   "cell_type": "code",
   "execution_count": 23,
   "id": "dcabc0b0",
   "metadata": {},
   "outputs": [
    {
     "name": "stdout",
     "output_type": "stream",
     "text": [
      "Shape of tabular data: (100, 17)\n"
     ]
    }
   ],
   "source": [
    "num_samples = 100\n",
    "num_features = 17\n",
    "tabular_data = np.random.random((num_samples, num_features))\n",
    "print(\"Shape of tabular data:\", tabular_data.shape)\n"
   ]
  },
  {
   "cell_type": "markdown",
   "id": "9ea1e400",
   "metadata": {},
   "source": [
    "---\n",
    "#### <span style=\"color:chocolate\">Exercise 4:</span> Image data layout (10 points)"
   ]
  },
  {
   "cell_type": "markdown",
   "id": "7c5b220a",
   "metadata": {},
   "source": [
    "Create an image data layout using the numpy method <span style=\"color:chocolate\">np.random.random()</span>, where:\n",
    "\n",
    "* the first input is num_images;\n",
    "* the second input is num_rows;\n",
    "* the third input is num_cols;\n",
    "* the fourth input is num_channels.\n",
    "\n",
    "Print the shape of the array."
   ]
  },
  {
   "cell_type": "code",
   "execution_count": 24,
   "id": "9b371f29",
   "metadata": {},
   "outputs": [
    {
     "name": "stdout",
     "output_type": "stream",
     "text": [
      "Shape of image data: (100, 256, 256, 3)\n"
     ]
    }
   ],
   "source": [
    "# already defined inputs\n",
    "num_images = 100\n",
    "num_rows = 256\n",
    "num_cols = 256\n",
    "num_channels = 3 #(RGB)\n",
    "\n",
    "image_data = np.random.random((num_images, num_rows, num_cols, num_channels))\n",
    "print(\"Shape of image data:\", image_data.shape)"
   ]
  },
  {
   "cell_type": "markdown",
   "id": "19d7b075",
   "metadata": {},
   "source": [
    "---\n",
    "#### <span style=\"color:chocolate\">Exercise 5: </span>Mathematical operations on numpy arrays (15 points)"
   ]
  },
  {
   "cell_type": "markdown",
   "id": "b88b701f",
   "metadata": {},
   "source": [
    "Create a (3, 2) numpy array (you can name it my_array4) containing only integer values. Perform the following tasks:\n",
    "\n",
    "1. Print the shape of the array;\n",
    "2. Print the sum of all elements (hint: the axis argument is set to None);\n",
    "3. Print the sum of all elements by column;\n",
    "3. Print the sum of all elements by row and change the type of the resulting array elements to float;\n",
    "5. Print the first row of the array;\n",
    "6. Print the second row of the array;\n",
    "7. Select the element at position (1, 0);\n",
    "8. Modify the element at position (2, 1) by setting its value to 10 and print the array again;\n",
    "9. Loop over all the elements in the array. Print the output."
   ]
  },
  {
   "cell_type": "code",
   "execution_count": 25,
   "id": "5efe6c22",
   "metadata": {},
   "outputs": [
    {
     "name": "stdout",
     "output_type": "stream",
     "text": [
      "1. Shape: (3, 2)\n",
      "2. Total sum: 21\n",
      "3. Sum by column: [ 9 12]\n",
      "4. Sum by row (as float): [ 3.  7. 11.]\n",
      "5. First row: [1 2]\n",
      "6. Second row: [3 4]\n",
      "7. Element at (1, 0): 3\n",
      "8. Modified array:\n",
      " [[ 1  2]\n",
      " [ 3  4]\n",
      " [ 5 10]]\n",
      "9. Loop over elements:\n",
      "1 2 3 4 5 10 "
     ]
    }
   ],
   "source": [
    "my_array4 = np.array([[1, 2], [3, 4], [5, 6]])\n",
    "print(\"1. Shape:\", my_array4.shape)\n",
    "\n",
    "print(\"2. Total sum:\", np.sum(my_array4))\n",
    "print(\"3. Sum by column:\", np.sum(my_array4, axis=0))\n",
    "print(\"4. Sum by row (as float):\", np.sum(my_array4, axis=1).astype(float))\n",
    "\n",
    "print(\"5. First row:\", my_array4[0])\n",
    "print(\"6. Second row:\", my_array4[1])\n",
    "print(\"7. Element at (1, 0):\", my_array4[1, 0])\n",
    "\n",
    "my_array4[2, 1] = 10\n",
    "print(\"8. Modified array:\\n\", my_array4)\n",
    "\n",
    "print(\"9. Loop over elements:\")\n",
    "for row in my_array4:\n",
    "    for val in row:\n",
    "        print(val, end=' ')\n"
   ]
  },
  {
   "cell_type": "markdown",
   "id": "7a7e249a",
   "metadata": {},
   "source": [
    "You can find more examples here: https://numpy.org/doc/stable/reference/routines.math.html"
   ]
  },
  {
   "cell_type": "markdown",
   "id": "7f71edb9",
   "metadata": {},
   "source": [
    "---\n",
    "#### <span style=\"color:chocolate\">Exercise 6:</span> Create arrays (15 points)\n",
    "\n",
    "1. Create and print a (3,2) numpy array of pixel values between 0 and 1.\n",
    "2. Create and print a (27,) numpy array representing years from 1991 to 2017\n",
    "3. Create and print a (3, 5, 10) numpy array of zeros\n",
    "4. Create and print a (3, 5, 10) numpy array of ones\n",
    "5. Create and print an array with a constant value (let's say 5) using np.ones()\n",
    "6. Create and print an array with random numbers drawn from a normal distribution with mean 0 and standard deviation 1. Set the sample size to 10.\n"
   ]
  },
  {
   "cell_type": "code",
   "execution_count": 26,
   "id": "b1bf53cb",
   "metadata": {},
   "outputs": [
    {
     "name": "stdout",
     "output_type": "stream",
     "text": [
      "1. [[0.38643974 0.40942165]\n",
      " [0.02320613 0.03671392]\n",
      " [0.30205873 0.95805644]]\n",
      "2. [1991 1992 1993 1994 1995 1996 1997 1998 1999 2000 2001 2002 2003 2004\n",
      " 2005 2006 2007 2008 2009 2010 2011 2012 2013 2014 2015 2016 2017]\n",
      "3. [[[0. 0. 0. 0. 0. 0. 0. 0. 0. 0.]\n",
      "  [0. 0. 0. 0. 0. 0. 0. 0. 0. 0.]\n",
      "  [0. 0. 0. 0. 0. 0. 0. 0. 0. 0.]\n",
      "  [0. 0. 0. 0. 0. 0. 0. 0. 0. 0.]\n",
      "  [0. 0. 0. 0. 0. 0. 0. 0. 0. 0.]]\n",
      "\n",
      " [[0. 0. 0. 0. 0. 0. 0. 0. 0. 0.]\n",
      "  [0. 0. 0. 0. 0. 0. 0. 0. 0. 0.]\n",
      "  [0. 0. 0. 0. 0. 0. 0. 0. 0. 0.]\n",
      "  [0. 0. 0. 0. 0. 0. 0. 0. 0. 0.]\n",
      "  [0. 0. 0. 0. 0. 0. 0. 0. 0. 0.]]\n",
      "\n",
      " [[0. 0. 0. 0. 0. 0. 0. 0. 0. 0.]\n",
      "  [0. 0. 0. 0. 0. 0. 0. 0. 0. 0.]\n",
      "  [0. 0. 0. 0. 0. 0. 0. 0. 0. 0.]\n",
      "  [0. 0. 0. 0. 0. 0. 0. 0. 0. 0.]\n",
      "  [0. 0. 0. 0. 0. 0. 0. 0. 0. 0.]]]\n",
      "4. [[[1. 1. 1. 1. 1. 1. 1. 1. 1. 1.]\n",
      "  [1. 1. 1. 1. 1. 1. 1. 1. 1. 1.]\n",
      "  [1. 1. 1. 1. 1. 1. 1. 1. 1. 1.]\n",
      "  [1. 1. 1. 1. 1. 1. 1. 1. 1. 1.]\n",
      "  [1. 1. 1. 1. 1. 1. 1. 1. 1. 1.]]\n",
      "\n",
      " [[1. 1. 1. 1. 1. 1. 1. 1. 1. 1.]\n",
      "  [1. 1. 1. 1. 1. 1. 1. 1. 1. 1.]\n",
      "  [1. 1. 1. 1. 1. 1. 1. 1. 1. 1.]\n",
      "  [1. 1. 1. 1. 1. 1. 1. 1. 1. 1.]\n",
      "  [1. 1. 1. 1. 1. 1. 1. 1. 1. 1.]]\n",
      "\n",
      " [[1. 1. 1. 1. 1. 1. 1. 1. 1. 1.]\n",
      "  [1. 1. 1. 1. 1. 1. 1. 1. 1. 1.]\n",
      "  [1. 1. 1. 1. 1. 1. 1. 1. 1. 1.]\n",
      "  [1. 1. 1. 1. 1. 1. 1. 1. 1. 1.]\n",
      "  [1. 1. 1. 1. 1. 1. 1. 1. 1. 1.]]]\n",
      "5. [[5. 5.]\n",
      " [5. 5.]]\n",
      "6. [ 0.07596634  1.46389684  0.20240575 -0.81129207  0.99013466 -0.14038225\n",
      " -0.00478484  1.58424241  0.10851382 -0.66103059]\n"
     ]
    }
   ],
   "source": [
    "print(\"1.\", np.random.rand(3, 2))\n",
    "print(\"2.\", np.arange(1991, 2018))\n",
    "print(\"3.\", np.zeros((3, 5, 10)))\n",
    "print(\"4.\", np.ones((3, 5, 10)))\n",
    "print(\"5.\", 5 * np.ones((2, 2)))\n",
    "print(\"6.\", np.random.normal(0, 1, 10))\n"
   ]
  },
  {
   "cell_type": "markdown",
   "id": "4fd05963",
   "metadata": {},
   "source": [
    "---\n",
    "#### <span style=\"color:chocolate\">Exercise 7:</span> Reshape arrays (10 points)"
   ]
  },
  {
   "cell_type": "markdown",
   "id": "e139e4eb",
   "metadata": {},
   "source": [
    "Consider the following array:"
   ]
  },
  {
   "cell_type": "code",
   "execution_count": 9,
   "id": "a5a192dc",
   "metadata": {},
   "outputs": [
    {
     "name": "stdout",
     "output_type": "stream",
     "text": [
      "(27,)\n"
     ]
    }
   ],
   "source": [
    "years = np.arange(1991, 2018, 1)\n",
    "print(years.shape)"
   ]
  },
  {
   "cell_type": "markdown",
   "id": "d3255640",
   "metadata": {},
   "source": [
    "Perform the following operations on this array:\n",
    "    \n",
    "1. Create 3 nested arrays, each of size (3, 3). Call this array years_3d (Hint: use np.reshape());\n",
    "2. Convert the years_3d array to a flat 1D array. Call this array years_1d (Hint: use np.flatten());\n",
    "3. Add a new dimension (axis=0) to the years_1d array. Call this array years_2d (Hint: use np.expand_dims());\n",
    "4. Remove the first axis from years_2d array. Call this array years_1d (Hint: use np.squeeze()).\n",
    "\n",
    "For each exercise print the array and its shape."
   ]
  },
  {
   "cell_type": "code",
   "execution_count": 27,
   "id": "ab18878a",
   "metadata": {},
   "outputs": [
    {
     "name": "stdout",
     "output_type": "stream",
     "text": [
      "Original shape: (27,)\n",
      "1. 3D array: (3, 3, 3)\n",
      "2. Flattened array: (27,)\n",
      "3. Expanded dims: (1, 27)\n",
      "4. Squeezed back: (27,)\n"
     ]
    }
   ],
   "source": [
    "years = np.arange(1991, 2018)\n",
    "print(\"Original shape:\", years.shape)\n",
    "\n",
    "years_3d = years.reshape((3, 3, 3))\n",
    "print(\"1. 3D array:\", years_3d.shape)\n",
    "\n",
    "years_1d = years_3d.flatten()\n",
    "print(\"2. Flattened array:\", years_1d.shape)\n",
    "\n",
    "years_2d = np.expand_dims(years_1d, axis=0)\n",
    "print(\"3. Expanded dims:\", years_2d.shape)\n",
    "\n",
    "years_1d_again = np.squeeze(years_2d, axis=0)\n",
    "print(\"4. Squeezed back:\", years_1d_again.shape)\n"
   ]
  },
  {
   "cell_type": "markdown",
   "id": "6a3a4011",
   "metadata": {},
   "source": [
    "---\n",
    "#### <span style=\"color:chocolate\">Exercise 8:</span> Joining arrays (10 points)"
   ]
  },
  {
   "cell_type": "markdown",
   "id": "762477a3",
   "metadata": {},
   "source": []
  },
  {
   "cell_type": "markdown",
   "id": "5382a84a",
   "metadata": {},
   "source": [
    "Provide 8 examples that use the methods <span style=\"color:cornflowerBlue\">np.concatenate()</span> and <span style=\"color:cornflowerBlue\">np.stack()</span>. Note: create 4 examples using each method."
   ]
  },
  {
   "cell_type": "code",
   "execution_count": 28,
   "id": "a9c2ff1a",
   "metadata": {},
   "outputs": [
    {
     "name": "stdout",
     "output_type": "stream",
     "text": [
      "1. [1 2 3 4]\n",
      "2. [[1 3]\n",
      " [2 4]]\n",
      "3. [[0. 0.]\n",
      " [0. 0.]\n",
      " [1. 1.]\n",
      " [1. 1.]]\n",
      "4. [0 1 2 3 4 5]\n",
      "5. [[1 2]\n",
      " [3 4]]\n",
      "6. [[1. 0.]\n",
      " [1. 0.]\n",
      " [1. 0.]]\n",
      "7. [[0 1 2 3 4]\n",
      " [0 1 2 3 4]\n",
      " [0 1 2 3 4]]\n",
      "8. [[0 0]\n",
      " [1 1]\n",
      " [2 2]]\n"
     ]
    }
   ],
   "source": [
    "# Concatenate examples\n",
    "print(\"1.\", np.concatenate((np.array([1, 2]), np.array([3, 4]))))\n",
    "print(\"2.\", np.concatenate((np.array([[1], [2]]), np.array([[3], [4]])), axis=1))\n",
    "print(\"3.\", np.concatenate((np.zeros((2,2)), np.ones((2,2))), axis=0))\n",
    "print(\"4.\", np.concatenate((np.arange(3), np.arange(3,6)), axis=0))\n",
    "\n",
    "# Stack examples\n",
    "print(\"5.\", np.stack((np.array([1, 2]), np.array([3, 4]))))\n",
    "print(\"6.\", np.stack((np.ones(3), np.zeros(3)), axis=1))\n",
    "print(\"7.\", np.stack([np.arange(5)] * 3, axis=0))\n",
    "print(\"8.\", np.stack([np.full((2,), i) for i in range(3)], axis=0))\n"
   ]
  },
  {
   "cell_type": "markdown",
   "id": "7780b5b8",
   "metadata": {},
   "source": [
    "---\n",
    "#### <span style=\"color:chocolate\">Numpy broadcasting</span> "
   ]
  },
  {
   "cell_type": "markdown",
   "id": "d105a999",
   "metadata": {},
   "source": [
    "The term broadcasting describes how NumPy treats arrays during arithmetic operations. You can find more here:  https://numpy.org/doc/stable/user/basics.broadcasting.html"
   ]
  },
  {
   "cell_type": "code",
   "execution_count": 12,
   "id": "ce9ca817",
   "metadata": {},
   "outputs": [
    {
     "data": {
      "text/plain": [
       "array([1991, 1992, 1993, 1994, 1995, 1996, 1997, 1998, 1999, 2000, 2001,\n",
       "       2002, 2003, 2004, 2005, 2006, 2007, 2008, 2009, 2010, 2011, 2012,\n",
       "       2013, 2014, 2015, 2016, 2017])"
      ]
     },
     "execution_count": 12,
     "metadata": {},
     "output_type": "execute_result"
    }
   ],
   "source": [
    "# multiplying an array with a scalar\n",
    "years = np.arange(1991, 2018, 1)\n",
    "years * 1"
   ]
  },
  {
   "cell_type": "code",
   "execution_count": 13,
   "id": "d2150eb6",
   "metadata": {},
   "outputs": [
    {
     "data": {
      "text/plain": [
       "array([1993, 1994, 1995, 1996, 1997, 1998, 1999, 2000, 2001, 2002, 2003,\n",
       "       2004, 2005, 2006, 2007, 2008, 2009, 2010, 2011, 2012, 2013, 2014,\n",
       "       2015, 2016, 2017, 2018, 2019])"
      ]
     },
     "execution_count": 13,
     "metadata": {},
     "output_type": "execute_result"
    }
   ],
   "source": [
    "# adding a scalar\n",
    "years + 2"
   ]
  },
  {
   "cell_type": "markdown",
   "id": "4496e688",
   "metadata": {},
   "source": []
  },
  {
   "cell_type": "code",
   "execution_count": 14,
   "id": "d7319a34",
   "metadata": {},
   "outputs": [
    {
     "name": "stdout",
     "output_type": "stream",
     "text": [
      "Array a: [0 1 2]\n",
      "Array b: [0 1 2]\n",
      "Sum of a and b: [0 2 4]\n"
     ]
    }
   ],
   "source": [
    "# many arithmetic operations are applied element wise on a pair of arrays\n",
    "a = np.arange(3)\n",
    "print('Array a:', a)\n",
    "b = np.arange(3)\n",
    "print('Array b:', b)\n",
    "print('Sum of a and b:', a+b)"
   ]
  },
  {
   "cell_type": "markdown",
   "id": "4b416334",
   "metadata": {},
   "source": []
  },
  {
   "cell_type": "code",
   "execution_count": 15,
   "id": "44ac94cd",
   "metadata": {},
   "outputs": [
    {
     "name": "stdout",
     "output_type": "stream",
     "text": [
      "Array a: [[1. 1. 1.]\n",
      " [1. 1. 1.]\n",
      " [1. 1. 1.]]\n",
      "\n",
      "Array b: [0 1 2]\n",
      "\n",
      "Sum of a and b: [[1. 2. 3.]\n",
      " [1. 2. 3.]\n",
      " [1. 2. 3.]]\n"
     ]
    }
   ],
   "source": [
    "# another example\n",
    "a = np.ones((3, 3))\n",
    "print('Array a:', a)\n",
    "b = np.arange(3)\n",
    "print('\\nArray b:', b)\n",
    "print('\\nSum of a and b:', a+b)"
   ]
  },
  {
   "cell_type": "markdown",
   "id": "85e7d3c8",
   "metadata": {},
   "source": [
    "---\n",
    "#### <span style=\"color:chocolate\">Exercise 9:</span> Numpy array standardization (10 points)"
   ]
  },
  {
   "cell_type": "markdown",
   "id": "9bccc9d7",
   "metadata": {},
   "source": [
    "Consider the following (10, 4) array:"
   ]
  },
  {
   "cell_type": "code",
   "execution_count": 30,
   "id": "02a2102e",
   "metadata": {},
   "outputs": [
    {
     "name": "stdout",
     "output_type": "stream",
     "text": [
      "my_array shape:  (10, 4)\n"
     ]
    },
    {
     "data": {
      "text/plain": [
       "array([[0.09937353, 0.84499208, 0.66970242, 0.96634253],\n",
       "       [0.6866152 , 0.79079929, 0.59628123, 0.00668868],\n",
       "       [0.38347787, 0.935465  , 0.06119359, 0.83823729],\n",
       "       [0.7621429 , 0.59478823, 0.48583373, 0.18892897],\n",
       "       [0.34150298, 0.7686633 , 0.45791553, 0.24110871],\n",
       "       [0.84777789, 0.38403823, 0.29776958, 0.70828868],\n",
       "       [0.27450515, 0.02413655, 0.78947195, 0.66621192],\n",
       "       [0.05990369, 0.16631529, 0.77016755, 0.67081354],\n",
       "       [0.1081097 , 0.63237205, 0.04045902, 0.21235379],\n",
       "       [0.37371452, 0.76071898, 0.33424506, 0.2644446 ]])"
      ]
     },
     "execution_count": 30,
     "metadata": {},
     "output_type": "execute_result"
    }
   ],
   "source": [
    "my_array = np.random.random((10, 4))\n",
    "print('my_array shape: ', my_array.shape)\n",
    "my_array"
   ]
  },
  {
   "cell_type": "markdown",
   "id": "c505935d",
   "metadata": {},
   "source": [
    "Peform the following operations on this array:\n",
    "1. Compute and print the mean and std for each column (note: set keepdims=True for proper broadcasting).\n",
    "2. Standardize and print the array and its shape using the mean and std you computed above."
   ]
  },
  {
   "cell_type": "code",
   "execution_count": 31,
   "id": "5a88c63d",
   "metadata": {},
   "outputs": [
    {
     "name": "stdout",
     "output_type": "stream",
     "text": [
      "Original shape: (10, 4)\n",
      "Standardized array:\n",
      " [[-1.2192909   0.74491566  0.64995876 -0.77502365]\n",
      " [ 1.04140183  1.46075463 -0.7111337  -0.77492779]\n",
      " [ 1.47751842  0.105992   -0.43346204 -0.50703725]\n",
      " [-1.25761756  0.94683963 -1.10206576  1.82313821]\n",
      " [-0.25008869 -1.29109542  0.58623735  1.94896184]\n",
      " [ 0.60143093 -1.08625642  0.33919911 -0.66530919]\n",
      " [ 1.35758661 -1.3500561   0.69854648  0.12772136]\n",
      " [-0.08663725  0.05843884 -0.98634975 -0.91466815]\n",
      " [-0.87897855  1.11252857  2.10586711  0.079925  ]\n",
      " [-0.78532483 -0.70206138 -1.14679754 -0.34278039]]\n",
      "Shape: (10, 4)\n"
     ]
    }
   ],
   "source": [
    "my_array = np.random.random((10, 4))\n",
    "print(\"Original shape:\", my_array.shape)\n",
    "\n",
    "mean = np.mean(my_array, axis=0, keepdims=True)\n",
    "std = np.std(my_array, axis=0, keepdims=True)\n",
    "\n",
    "standardized = (my_array - mean) / std\n",
    "print(\"Standardized array:\\n\", standardized)\n",
    "print(\"Shape:\", standardized.shape)\n"
   ]
  },
  {
   "cell_type": "markdown",
   "id": "ebe2eaa0",
   "metadata": {},
   "source": [
    "----\n",
    "#### <span style=\"color:chocolate\">Additional practice question</span> (not graded)"
   ]
  },
  {
   "cell_type": "markdown",
   "id": "d43bdaa7",
   "metadata": {},
   "source": [
    "Consider the following image:"
   ]
  },
  {
   "cell_type": "code",
   "execution_count": 18,
   "id": "e7c61c06",
   "metadata": {},
   "outputs": [
    {
     "name": "stdout",
     "output_type": "stream",
     "text": [
      "[[0.   0.04 0.08 0.12 0.16]\n",
      " [0.2  0.24 0.28 0.32 0.36]\n",
      " [0.4  0.44 0.48 0.52 0.56]\n",
      " [0.6  0.64 0.68 0.72 0.76]\n",
      " [0.8  0.84 0.88 0.92 0.96]]\n"
     ]
    },
    {
     "data": {
      "text/plain": [
       "(5, 5)"
      ]
     },
     "execution_count": 18,
     "metadata": {},
     "output_type": "execute_result"
    }
   ],
   "source": [
    "my_image = np.arange(0, 1, 0.04).reshape(5,5)\n",
    "print(my_image)\n",
    "my_image.shape"
   ]
  },
  {
   "cell_type": "markdown",
   "id": "78f029bd",
   "metadata": {},
   "source": [
    "Perform the following operations on this image (do not overwrite the original image):\n",
    "\n",
    "1. Crop by using a border of size 1;\n",
    "2. Crop by removing:\n",
    "    * the first and the last two rows, and\n",
    "    * the first and the last two columns;\n",
    "3. Reverse the column order;\n",
    "4. set to 0.5 elements divizible by 2."
   ]
  },
  {
   "cell_type": "code",
   "execution_count": 19,
   "id": "d7dadfcf",
   "metadata": {},
   "outputs": [],
   "source": [
    "# YOUR CODE HERE"
   ]
  }
 ],
 "metadata": {
  "kernelspec": {
   "display_name": "Python 3",
   "language": "python",
   "name": "python3"
  },
  "language_info": {
   "codemirror_mode": {
    "name": "ipython",
    "version": 3
   },
   "file_extension": ".py",
   "mimetype": "text/x-python",
   "name": "python",
   "nbconvert_exporter": "python",
   "pygments_lexer": "ipython3",
   "version": "3.13.2"
  }
 },
 "nbformat": 4,
 "nbformat_minor": 5
}
